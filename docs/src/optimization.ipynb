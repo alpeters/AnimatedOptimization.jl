{
 "cells": [
  {
   "cell_type": "markdown",
   "metadata": {},
   "source": [
    "---\n",
    "title       : \"Optimization\"\n",
    "subtitle    : \n",
    "author      : Paul Schrimpf\n",
    "date        : `j using Dates; print(Dates.today())`\n",
    "bibliography: \"opt.bib\"\n",
    "---\n",
    "\n",
    "<a rel=\"license\"\n",
    "href=\"http://creativecommons.org/licenses/by-sa/4.0/\"><img alt=\"Creative\n",
    "Commons License\" style=\"border-width:0\"\n",
    "src=\"https://i.creativecommons.org/l/by-sa/4.0/88x31.png\"\n",
    "/></a><br />This work is licensed under a <a rel=\"license\"\n",
    "href=\"http://creativecommons.org/licenses/by-sa/4.0/\">Creative\n",
    "Commons Attribution-ShareAlike 4.0 International License</a>.\n",
    "\n",
    "### About this document {-}\n",
    "\n",
    "This document was created using Weave.jl. The code is available in\n",
    "[the course github\n",
    "repository](https://bitbucket.org/paulschrimpf/econ526). The same\n",
    "document generates both static webpages and associated jupyter\n",
    "notebooks. This is meant to accompany [the lecture notes for 526](http://faculty.arts.ubc.ca/pschrimpf/526/526.html). \n",
    "\n",
    "$$\n",
    "\\def\\indep{\\perp\\!\\!\\!\\perp}\n",
    "\\def\\Er{\\mathrm{E}}\n",
    "\\def\\R{\\mathbb{R}}\n",
    "\\def\\En{{\\mathbb{E}_n}}\n",
    "\\def\\Pr{\\mathrm{P}}\n",
    "\\newcommand{\\norm}[1]{\\left\\Vert {#1} \\right\\Vert}\n",
    "\\newcommand{\\abs}[1]{\\left\\vert {#1} \\right\\vert}\n",
    "\\DeclareMathOperator*{\\argmax}{arg\\,max}\n",
    "\\DeclareMathOperator*{\\argmin}{arg\\,min}\n",
    "\\def\\inprob{\\,{\\buildrel p \\over \\rightarrow}\\,} \n",
    "\\def\\indist{\\,{\\buildrel d \\over \\rightarrow}\\,} \n",
    "$$\n",
    "\n",
    "# Optimization Algorithms\n",
    "\n",
    "The goal of this notebook is to give you some familiarity with numeric\n",
    "optimization. \n",
    "\n",
    "Numeric optimization is important because many (most) models cannot be\n",
    "fully solved analytically. Numeric results can be used to complement\n",
    "analytic ones. Numeric optimization plays a huge role in econometrics. \n",
    "\n",
    "In these notes, we will focus on minimization problems following the\n",
    "convention in mathematics, engineering, and most numerical\n",
    "libraries. It is easy to convert between minimization and\n",
    "maximization, and we hope that this does not lead to any confusion.\n",
    "\n",
    "# Heuristic searches\n",
    "\n",
    "The simplest type of optimization algorithm are heuristic\n",
    "searches. Consider the problem: \n",
    "\n",
    "$$\n",
    "\\min_x f(x)\n",
    "$$\n",
    "\n",
    "with $f:\\R^n \\to \\R$. Heuristic search algorithms consist of \n",
    "\n",
    "1. Evaluate $f$ at a collection of points \n",
    "2. Generate a new candidate point, $x^{new}$. Replace a point\n",
    "   in the current collection with $x^{new}$ if $f(x^{new})$ is small enough. \n",
    "3. Stop when function value stops decreasing and/or collection of\n",
    "   points become too close together. \n",
    "   \n",
    "There are many variants of such algorithms with different ways of\n",
    "generating new points, deciding whether to accept the new point, and\n",
    "deciding when to stop.  Here is a simple implementation and animation\n",
    "of the above idea. In the code below, new points are drawn randomly\n",
    "from a normal distribution, and new points are accepted whenever\n",
    "$f(x^{new})$ is smaller than the worst existing function value."
   ]
  },
  {
   "cell_type": "code",
   "execution_count": 1,
   "metadata": {},
   "outputs": [
    {
     "data": {
      "text/plain": [
       "\"nul\""
      ]
     },
     "execution_count": 1,
     "metadata": {},
     "output_type": "execute_result"
    }
   ],
   "source": [
    "using Distributions, Plots\n",
    "ENV[\"GKSwstype\"]=\"nul\" # for running Plots with GR backend without DISPLAY (e.g. over ssh)"
   ]
  },
  {
   "cell_type": "code",
   "execution_count": 2,
   "metadata": {},
   "outputs": [
    {
     "data": {
      "text/plain": [
       "functiontext (generic function with 1 method)"
      ]
     },
     "execution_count": 2,
     "metadata": {},
     "output_type": "execute_result"
    }
   ],
   "source": [
    "using AnimatedOptimization\n",
    "\n",
    "function functiontext(functionname, filename; includedoc=true)\n",
    "  lines = readlines(filename)\n",
    "  fstart=findfirst(occursin.(Regex(\"function\\\\s+$(functionname)\"),lines))\n",
    "  fend  =fstart + findfirst(occursin.(r\"^end\",lines[(fstart+1):end]))  \n",
    "  if (includedoc && occursin(r\"^\\\"\\\"\\\"\",lines[fstart-1]) )\n",
    "    dend = fstart -1\n",
    "    dstart = dend - findfirst(occursin.(r\"^\\\"\\\"\\\"\", lines[(fstart-2):(-1):1]))\n",
    "  end\n",
    "  lines[dstart:fend]\n",
    "end"
   ]
  },
  {
   "cell_type": "code",
   "execution_count": 3,
   "metadata": {},
   "outputs": [
    {
     "ename": "SystemError",
     "evalue": "SystemError: opening file \"/home/paul/.julia/dev/AnimatedOptimization/docs/src/../src/heuristic_optimizers.jl\": No such file or directory",
     "output_type": "error",
     "traceback": [
      "SystemError: opening file \"/home/paul/.julia/dev/AnimatedOptimization/docs/src/../src/heuristic_optimizers.jl\": No such file or directory",
      "",
      "Stacktrace:",
      " [1] open at ./iostream.jl:373 [inlined]",
      " [2] #readlines#287 at ./io.jl:423 [inlined]",
      " [3] readlines at ./io.jl:423 [inlined]",
      " [4] #functiontext#3(::Bool, ::typeof(functiontext), ::String, ::String) at ./In[2]:4",
      " [5] functiontext(::String, ::String) at ./In[2]:4",
      " [6] top-level scope at In[3]:1"
     ]
    }
   ],
   "source": [
    "println.(functiontext(\"minrandomsearch\",joinpath(@__DIR__, \"../src/heuristic_optimizers.jl\")));"
   ]
  },
  {
   "cell_type": "code",
   "execution_count": 4,
   "metadata": {},
   "outputs": [
    {
     "data": {
      "text/plain": [
       "2-element Array{Float64,1}:\n",
       " -2.0\n",
       "  3.0"
      ]
     },
     "execution_count": 4,
     "metadata": {},
     "output_type": "execute_result"
    }
   ],
   "source": [
    "\"\"\"\n",
    "     banana(a,b)\n",
    "  \n",
    "  Returns the Rosenbrock function with parameters a, b.\n",
    "\"\"\"\n",
    "function banana(a,b)\n",
    "  x->(a-x[1])^2+b*(x[2]-x[1]^2)^2\n",
    "end\n",
    "f = banana(1.0,1.0)\n",
    "\n",
    "x0 = [-2.0, 3.0]"
   ]
  },
  {
   "cell_type": "code",
   "execution_count": 5,
   "metadata": {},
   "outputs": [
    {
     "name": "stderr",
     "output_type": "stream",
     "text": [
      "┌ Info: Saved animation to \n",
      "│   fn = /home/paul/.julia/dev/AnimatedOptimization/docs/src/randsearch.gif\n",
      "└ @ Plots /home/paul/.julia/packages/Plots/h3o4c/src/animation.jl:95\n"
     ]
    }
   ],
   "source": [
    "result = minrandomsearch(f, x0, 20, var0=0.1, vshrink=0.5, vtol=1e-3 )\n",
    "gif(result[5], \"randsearch.gif\", fps=5);"
   ]
  },
  {
   "cell_type": "markdown",
   "metadata": {},
   "source": [
    "![random search](./randsearch.gif \"Random search\")\n",
    "\n",
    "There are many other heuristic search algorithms. A popular\n",
    "deterministic one is the Nelder-Mead simplex. Popular heuristic\n",
    "search algorithms that include some randomness include simulated\n",
    "annealing and particle swarm. Each of the three algorithms just\n",
    "mentioned are available in\n",
    "[Optim.jl](https://julianlsolvers.github.io/Optim.jl/stable/#algo/nelder_mead/). These\n",
    "heuristic searches have the advantage that they only function values\n",
    "(as opposed to also requiring gradients or hessians, see\n",
    "below). Some heuristic algorithms, like simulated annealing, can be\n",
    "shown to converge to a global (instead of local) minimum under\n",
    "appropriate assumptions. Compared to algorithms that use more\n",
    "information, heuristic algorithms tend to require many more function\n",
    "evaluations. \n",
    "\n",
    "# Gradient descent\n",
    "\n",
    "Gradient descent is an iterative algorithm to find a local minimum. As\n",
    "the name suggests, it consists of descending toward a minimum in the\n",
    "direction opposite the gradient. Each step, you start at some $x$ and\n",
    "compute $x_{new}$\n",
    "\n",
    "1. Given current $x$, compute $x_{new} = x - \\gamma Df_{x}$\n",
    "2. Adjust $\\gamma$ depending on whether $f(x_{new})<f(x)$\n",
    "3. Repeat until $\\norm{Df_{x}}$, $\\norm{x-x_{new}}$, and/or\n",
    "   $\\abs{f(x)-f(x_{new})}$ small."
   ]
  },
  {
   "cell_type": "code",
   "execution_count": 6,
   "metadata": {},
   "outputs": [],
   "source": [
    "using ForwardDiff, LinearAlgebra"
   ]
  },
  {
   "cell_type": "code",
   "execution_count": 7,
   "metadata": {},
   "outputs": [
    {
     "ename": "SystemError",
     "evalue": "SystemError: opening file \"/home/paul/.julia/dev/AnimatedOptimization/docs/src/../src/smooth_optimizers.jl\": No such file or directory",
     "output_type": "error",
     "traceback": [
      "SystemError: opening file \"/home/paul/.julia/dev/AnimatedOptimization/docs/src/../src/smooth_optimizers.jl\": No such file or directory",
      "",
      "Stacktrace:",
      " [1] open at ./iostream.jl:373 [inlined]",
      " [2] #readlines#287 at ./io.jl:423 [inlined]",
      " [3] readlines at ./io.jl:423 [inlined]",
      " [4] #functiontext#3(::Bool, ::typeof(functiontext), ::String, ::String) at ./In[2]:4",
      " [5] functiontext(::String, ::String) at ./In[2]:4",
      " [6] top-level scope at In[7]:1"
     ]
    }
   ],
   "source": [
    "println.(functiontext(\"graddescent\",joinpath(@__DIR__, \"../src/smooth_optimizers.jl\")));"
   ]
  },
  {
   "cell_type": "code",
   "execution_count": 8,
   "metadata": {},
   "outputs": [
    {
     "name": "stderr",
     "output_type": "stream",
     "text": [
      "┌ Info: Saved animation to \n",
      "│   fn = /home/paul/.julia/dev/AnimatedOptimization/docs/src/graddescent.gif\n",
      "└ @ Plots /home/paul/.julia/packages/Plots/h3o4c/src/animation.jl:95\n"
     ]
    }
   ],
   "source": [
    "result = graddescent(f, x0)\n",
    "gif(result[5], \"graddescent.gif\", fps=5);"
   ]
  },
  {
   "cell_type": "markdown",
   "metadata": {},
   "source": [
    "![gradient descent](./graddescent.gif \"Gradient descent\")\n",
    "\n",
    "\n",
    "Although an appealing and intuitive idea, the above example\n",
    "illustrates that gradient descent can perform surprisingly poorly in\n",
    "some cases. Nonetheless, gradient descent is useful for some\n",
    "problems. Notably, (stochastic) gradient descent is used to fit neural\n",
    "networks, where the dimension of `x` is so large that computing the\n",
    "inverse hessian in (quasi) Newton's method is prohibitively time\n",
    "consuming. \n",
    "\n",
    "# Newton's method\n",
    "\n",
    "Newton's method and its variations are often the most efficient\n",
    "minimization algorithms. Newton's method updates $x$ by minimizing a\n",
    "second order approximation to $f$. Specifically:\n",
    "\n",
    "1. Given $x$ set $x_{new} = x - (D^2f_x)^{-1} Df_x$\n",
    "2. Repeat until $\\norm{Df_{x}}$, $\\norm{x-x_{new}}$, and/or\n",
    "   $\\abs{f(x)-f(x_{new})}$ small."
   ]
  },
  {
   "cell_type": "code",
   "execution_count": 9,
   "metadata": {},
   "outputs": [
    {
     "ename": "SystemError",
     "evalue": "SystemError: opening file \"/home/paul/.julia/dev/AnimatedOptimization/docs/src/../src/smooth_optimizers.jl\": No such file or directory",
     "output_type": "error",
     "traceback": [
      "SystemError: opening file \"/home/paul/.julia/dev/AnimatedOptimization/docs/src/../src/smooth_optimizers.jl\": No such file or directory",
      "",
      "Stacktrace:",
      " [1] open at ./iostream.jl:373 [inlined]",
      " [2] #readlines#287 at ./io.jl:423 [inlined]",
      " [3] readlines at ./io.jl:423 [inlined]",
      " [4] #functiontext#3(::Bool, ::typeof(functiontext), ::String, ::String) at ./In[2]:4",
      " [5] functiontext(::String, ::String) at ./In[2]:4",
      " [6] top-level scope at In[9]:1"
     ]
    }
   ],
   "source": [
    "println.(functiontext(\"newton\",joinpath(@__DIR__, \"../src/smooth_optimizers.jl\")));"
   ]
  },
  {
   "cell_type": "code",
   "execution_count": 10,
   "metadata": {},
   "outputs": [
    {
     "name": "stdout",
     "output_type": "stream",
     "text": [
      "hello\n",
      "hello\n",
      "hello\n",
      "hello\n",
      "hello\n",
      "hello\n",
      "hello\n",
      "hello\n",
      "hello\n",
      "hello\n",
      "hello\n",
      "hello\n",
      "hello\n",
      "hello\n",
      "hello\n",
      "hello\n",
      "hello\n",
      "hello\n",
      "hello\n"
     ]
    },
    {
     "name": "stderr",
     "output_type": "stream",
     "text": [
      "┌ Info: Saved animation to \n",
      "│   fn = /home/paul/.julia/dev/AnimatedOptimization/docs/src/newton.gif\n",
      "└ @ Plots /home/paul/.julia/packages/Plots/h3o4c/src/animation.jl:95\n"
     ]
    }
   ],
   "source": [
    "result = newton(f, x0)\n",
    "gif(result[5], \"newton.gif\", fps=5);"
   ]
  },
  {
   "cell_type": "markdown",
   "metadata": {},
   "source": [
    "![newton](./newton.gif \"Newton's method\")\n",
    "\n",
    "\n",
    "Newton's method tends to take relatively few iterations to converge\n",
    "for well-behaved functions. It does have the disadvantage that hessian\n",
    "and its inverse can be time consuming to compute, especially when the\n",
    "dimension of $x$ is large. Newton's method can be unstable for\n",
    "functions that are not well approximated by their second\n",
    "expansion. This problem can be mitigated by combining Newton's method\n",
    "with a line search or trust region. \n",
    "\n",
    "## Line search\n",
    "\n",
    "Line searches consist of approximately minimizing $f$ along a given\n",
    "direction instead of updating $x$ with a fixed step size. For Newton's\n",
    "method, instead of setting $x_{new} = x - (D^2f_x)^{-1} Df_x$, set \n",
    "$x_{new} \\approx \\argmin_{\\delta} f(x - \\delta (D^2f_x)^{-1} Df_x)$  where\n",
    "$\\delta$ is a scalar. This one dimensional problem can be solved\n",
    "fairly quickly. Line search can also be combined with gradient\n",
    "descent. \n",
    "\n",
    "## Trust region\n",
    "\n",
    "Instead of setting \n",
    "$$\n",
    "x_{new} = x - (D^2f_x)^{-1} Df_x =\n",
    "\\argmin_{\\tilde{x}} f(x) + Df_x (\\tilde{x} - x) + \\frac{1}{2}\n",
    "(\\tilde{x}-x)^T Df_x (\\tilde{x} - x)\n",
    "$$\n",
    "to the unconstrained minimizer of a local second order approximation,\n",
    "trust region methods introduce an region near $x$ where the\n",
    "approximation is trusted, and set\n",
    "$$\n",
    "x_{new} = \\argmin_{\\tilde{x} \\in TR(x)} f(x) + Df_x (\\tilde{x} - x) + \\frac{1}{2}\n",
    "(\\tilde{x}-x)^T D^2 f_x (\\tilde{x} - x).\n",
    "$$\n",
    "Often $TR(x) = \\{\\tilde{x} : \\norm{x - \\tilde{x}} < r\\}$. The radius\n",
    "of the trust region is then increased or decreased depending on\n",
    "$f(x_{new})$. \n",
    "\n",
    "## Quasi-Newton \n",
    "\n",
    "Quasi-Newton methods (in particular the BFGS algorithm) are probably\n",
    "the most commonly used nonlinear optimization algorithm. Quasi-Newton\n",
    "methods are similar to Newton's method, except instead of evaluating\n",
    "the hessian directly, quasi-Newton methods build an approximation to\n",
    "the hessian from repeated evaluations of $Df_x$ at different $x$.\n",
    "\n",
    "Optim.jl contains all the algorithms mentioned above. [Their advice on\n",
    "choice of algorithm is worth\n",
    "following.](https://julianlsolvers.github.io/Optim.jl/stable/#user/algochoice/). \n",
    "\n",
    "## Details matter in practice\n",
    "\n",
    "In each of the algorithms above, we were somewhat cavalier with\n",
    "details like how to adjust step sizes and trust regions and what it\n",
    "means to approximately minimize during a line search. In practice\n",
    "these details can be quite important for how long an algorithm takes\n",
    "and whether it succeeds or fails. Different implementations of\n",
    "algorithms have different details. Often the details can be adjusted\n",
    "through some options. It can be worthwhile to try multiple\n",
    "implementations and options to get the best performance. \n",
    "\n",
    "\n",
    "# Constrained optimization\n",
    "\n",
    "Constrained optimization is a bit harder than unconstrained, but uses\n",
    "similar ideas. For simple bound constraints, like $x\\geq 0$ it is\n",
    "often easiest to simply transform to an unconstrained case by\n",
    "optimizing over $y = \\log(x)$ instead. \n",
    "\n",
    "For problems with equality constraints, one can apply Newton's method\n",
    "to the first order conditions. \n",
    "\n",
    "The difficult case is when there are inequality constraints. Just like\n",
    "when solving analytically, the difficulty is figuring out which\n",
    "constraints bind and which do not. \n",
    "For inequality constraints, we will consider problems written in the form:\n",
    "$$\n",
    "\\min_{x \\in \\R^n} f(x) \\text{ s.t. } c(x) \\geq 0 \n",
    "$$\n",
    "\n",
    "## Interior Point Methods\n",
    "\n",
    "Interior point methods circumvent the problem of figuring out which\n",
    "constraints bind by approaching the optimum from the interior of the\n",
    "feasible set. To do this, the interior point method applies Newton's\n",
    "method to a modified version of the first order condition. The\n",
    "unmodified first order conditions can be written\n",
    "$$\n",
    "\\begin{align*}\n",
    "0 = & Df_x - \\lambda^T Dc_x \\\\\n",
    "0 = & \\lambda_i c_i(x) \\\\\n",
    "\\lambda \\geq & 0 \\\\\n",
    "c(x) \\geq & 0\n",
    "\\end{align*}\n",
    "$$\n",
    "A difficulty with these conditions is that solving them can require\n",
    "guessing and checking which combinations of constraints bind and which\n",
    "do not. Interior point methods get around this problem by beginning\n",
    "with an interior $x$ and $\\lambda$ such that $\\lambda>0$ and\n",
    "$c(x)>0$. They are then updated by applying Newton's method to the\n",
    "equations\n",
    "$$\n",
    "\\begin{align*}\n",
    "0 = & Df_x - \\lambda^T Dc_x \\\\\n",
    "\\mu = & \\lambda_i c_i(x) \\\\\n",
    "\\end{align*}\n",
    "$$\n",
    "where there is now a $\\mu$ in place of $0$ in the second equation. $x$\n",
    "and $\\lambda$ are updated according to Newton's method for this system\n",
    "of equations. In particular, \n",
    "$x_{new} = x + \\Delta_x$ and $\\lambda_{new}= \\lambda + \\Delta_\\lambda$, where\n",
    "$$\n",
    "\\begin{align*}\n",
    "\\begin{pmatrix} - ( Df_x - \\lambda^T Dc_x) \\\\\n",
    "\\mu 1_m -  diag(c(x)) \\lambda \n",
    "\\end{pmatrix} = \\begin{pmatrix} \n",
    " D^2 f_x -  D^2 (\\lambda c)_x  & -Dc_x^T \\\\\n",
    " \\lambda Dc_x & diag(c(x)) \n",
    "\\end{pmatrix} \\begin{pmatrix}\n",
    "\\Delta_x \\\\\n",
    "\\Delta_\\lambda\n",
    "\\end{pmatrix}\n",
    "\\end{align*}\n",
    "$$\n",
    "Over iterations $\\mu$ is gradually decreased toward\n",
    "$0$. Here is one simple implementation."
   ]
  },
  {
   "cell_type": "code",
   "execution_count": 11,
   "metadata": {},
   "outputs": [
    {
     "ename": "SystemError",
     "evalue": "SystemError: opening file \"/home/paul/.julia/dev/AnimatedOptimization/docs/src/../src/constrained_optimizers.jl\": No such file or directory",
     "output_type": "error",
     "traceback": [
      "SystemError: opening file \"/home/paul/.julia/dev/AnimatedOptimization/docs/src/../src/constrained_optimizers.jl\": No such file or directory",
      "",
      "Stacktrace:",
      " [1] open at ./iostream.jl:373 [inlined]",
      " [2] #readlines#287 at ./io.jl:423 [inlined]",
      " [3] readlines at ./io.jl:423 [inlined]",
      " [4] #functiontext#3(::Bool, ::typeof(functiontext), ::String, ::String) at ./In[2]:4",
      " [5] functiontext(::String, ::String) at ./In[2]:4",
      " [6] top-level scope at In[11]:1"
     ]
    }
   ],
   "source": [
    "println.(functiontext(\"interiorpoint\",joinpath(@__DIR__, \"../src/constrained_optimizers.jl\")));"
   ]
  },
  {
   "cell_type": "code",
   "execution_count": 12,
   "metadata": {},
   "outputs": [
    {
     "data": {
      "text/plain": [
       "constraint (generic function with 1 method)"
      ]
     },
     "execution_count": 12,
     "metadata": {},
     "output_type": "execute_result"
    }
   ],
   "source": [
    "f = banana(1.0,1.0)\n",
    "x0 = [3.0, 0.0]\n",
    "function constraint(x)\n",
    "  [x[1] + x[2] - 2.5]\n",
    "end"
   ]
  },
  {
   "cell_type": "code",
   "execution_count": 13,
   "metadata": {},
   "outputs": [
    {
     "name": "stderr",
     "output_type": "stream",
     "text": [
      "┌ Info: Saved animation to \n",
      "│   fn = /home/paul/.julia/dev/AnimatedOptimization/docs/src/ip.gif\n",
      "└ @ Plots /home/paul/.julia/packages/Plots/h3o4c/src/animation.jl:95\n"
     ]
    }
   ],
   "source": [
    "result = interiorpoint(f, x0, constraint; maxiter=100)\n",
    "gif(result[5], \"ip.gif\", fps=5);"
   ]
  },
  {
   "cell_type": "markdown",
   "metadata": {},
   "source": [
    "![interior point](./ip.gif \"Interior point\")\n",
    "\n",
    "\n",
    "Optim.jl includes an interior point method. IPOPT is another popular\n",
    "implementation. As above, the details of the algorithm can be\n",
    "important in practice. It can be worthwhile to experiment with\n",
    "different methods for updating $\\mu$, using a more sophisticated line\n",
    "search or trust region, and perhaps replacing the computation of the\n",
    "hessian with a quasi-Newton approximation. \n",
    "\n",
    "It has been proven that interior point methods converge relatively\n",
    "quickly for convex optimization problems. \n",
    "\n",
    "## Sequential quadratic programming\n",
    "\n",
    "Sequential quadratic programming relies on the fact that there are\n",
    "efficient methods to compute the solution to quadratic programs ---\n",
    "optimization problems with quadratic objective functions and linear\n",
    "constraints. We can then solve a more general optimization problem by\n",
    "solving a sequence of quadratic programs that approximate the original problem.\n",
    "\n",
    "Sequential quadratic programming is like a constrained version of\n",
    "Newton's method. Given a current $x$ and $\\lambda$ the new $x$ solves\n",
    "$$\n",
    "\\begin{align*}\n",
    "x_{new} \\in \\argmin_{\\tilde{x}} & f(x) + Df_x (\\tilde{x} - x) +\n",
    "\\frac{1}{2} (\\tilde{x}-x)^T (D^2 f_x + D^2 (\\lambda^T c)_x) (\\tilde{x} - x) \\\\\n",
    " \\text{ s. t. } & c(x) + Dc_{x} (\\tilde{x} - x) \\geq 0\n",
    "\\end{align*}\n",
    "$$\n",
    "and the new $\\lambda$ is set to the value of the multipliers for this\n",
    "problem. \n",
    "\n",
    "This quadratic program (an optimization problem with a quadratic\n",
    "objective function and linear constraints) can be solved fairly\n",
    "efficiently if $(D^2 f_x + D^2 (\\lambda^T c)_x)$ is positive\n",
    "semi-definite.[^QP] \n",
    "\n",
    "[^QP]: Most for Convex program solvers are designed to accept\n",
    "    semidefinite programs instead of quadratic programs. A [quadratic\n",
    "    program can be re-written as a semidefinite\n",
    "    program](https://math.stackexchange.com/q/2256243). A solver such\n",
    "    as SCS, ECOS, or Mosek can then be used. Fortunately, Convex.jl\n",
    "    will automatically take care of any necessary transformation.\n",
    "    \n",
    "One could also incorporate a trust region or line search into the\n",
    "above algorithm. Here is one simple implementation."
   ]
  },
  {
   "cell_type": "code",
   "execution_count": 14,
   "metadata": {},
   "outputs": [],
   "source": [
    "using Convex, ECOS"
   ]
  },
  {
   "cell_type": "code",
   "execution_count": 15,
   "metadata": {},
   "outputs": [
    {
     "ename": "SystemError",
     "evalue": "SystemError: opening file \"/home/paul/.julia/dev/AnimatedOptimization/docs/src/../src/constrained_optimizers.jl\": No such file or directory",
     "output_type": "error",
     "traceback": [
      "SystemError: opening file \"/home/paul/.julia/dev/AnimatedOptimization/docs/src/../src/constrained_optimizers.jl\": No such file or directory",
      "",
      "Stacktrace:",
      " [1] open at ./iostream.jl:373 [inlined]",
      " [2] #readlines#287 at ./io.jl:423 [inlined]",
      " [3] readlines at ./io.jl:423 [inlined]",
      " [4] #functiontext#3(::Bool, ::typeof(functiontext), ::String, ::String) at ./In[2]:4",
      " [5] functiontext(::String, ::String) at ./In[2]:4",
      " [6] top-level scope at In[15]:1"
     ]
    }
   ],
   "source": [
    "println.(functiontext(\"sequentialquadratic\",joinpath(@__DIR__, \"../src/constrained_optimizers.jl\")));"
   ]
  },
  {
   "cell_type": "code",
   "execution_count": 16,
   "metadata": {},
   "outputs": [
    {
     "name": "stderr",
     "output_type": "stream",
     "text": [
      "┌ Warning: Problem status Infeasible; solution may be inaccurate.\n",
      "└ @ Convex /home/paul/.julia/packages/Convex/6NNC8/src/solution.jl:51\n"
     ]
    },
    {
     "name": "stdout",
     "output_type": "stream",
     "text": [
      "Iter 0: f=1.0, λ=[5.744129812962317e7], c(x)=[-2.5], TR=0.6666666666666666, norm(foc)=1.4142135623730951\n",
      "Iter 1: f=1.0, λ=[8.82630652026277e7], c(x)=[-2.5], TR=0.4444444444444444, norm(foc)=1.4142135623730951\n"
     ]
    },
    {
     "name": "stderr",
     "output_type": "stream",
     "text": [
      "┌ Warning: Problem status Infeasible; solution may be inaccurate.\n",
      "└ @ Convex /home/paul/.julia/packages/Convex/6NNC8/src/solution.jl:51\n",
      "┌ Warning: Problem status Infeasible; solution may be inaccurate.\n",
      "└ @ Convex /home/paul/.julia/packages/Convex/6NNC8/src/solution.jl:51\n"
     ]
    },
    {
     "name": "stdout",
     "output_type": "stream",
     "text": [
      "Iter 2: f=5.038440570604318, λ=[1.1753817640813076e8], c(x)=[-0.07212807174958691], TR=0.6666666666666666, norm(foc)=1.6644012806823975e8\n",
      "Iter 3: f=1.6448771839550929, λ=[2.416203521589231e-9], c(x)=[0.48372602542892373], TR=1.0, norm(foc)=8.727700659672426\n",
      "Iter 4: f=0.5840086806647102, λ=[4.4551946746239154e-10], c(x)=[0.6757581967033381], TR=1.0, norm(foc)=4.6137298556725534\n",
      "Iter 5: f=0.23916925350447604, λ=[7.569576370538181e-11], c(x)=[0.4993830486552775], TR=1.0, norm(foc)=2.5160755086622277\n",
      "Iter 6: f=0.09743531200157135, λ=[9.38238253913904e-10], c(x)=[0.19871922912166484], TR=1.0, norm(foc)=1.40581442153938\n",
      "Iter 7: f=0.040343557701675914, λ=[0.02685022552990332], c(x)=[4.2504577635327223e-10], TR=1.0, norm(foc)=0.7553410661599463\n",
      "Iter 8: f=0.027527315271240967, λ=[0.08320080939959254], c(x)=[1.3213163896352853e-10], TR=1.0, norm(foc)=0.3652756468851557\n",
      "Iter 9: f=0.024131472985838866, λ=[0.08679517745067436], c(x)=[8.819052155217832e-10], TR=1.0, norm(foc)=0.1831946208733258\n",
      "Iter 10: f=0.023256002358673446, λ=[0.08778281083823443], c(x)=[2.1765655944250284e-10], TR=1.0, norm(foc)=0.09173401109091146\n",
      "Iter 11: f=0.023033667836213356, λ=[0.08804971131022993], c(x)=[2.176051783209232e-9], TR=1.0, norm(foc)=0.04591272206539734\n",
      "Iter 12: f=0.02297758351219684, λ=[0.08811530260655176], c(x)=[2.1821664475396574e-9], TR=1.0, norm(foc)=0.022967012802199437\n",
      "Iter 13: f=0.022963508642272278, λ=[0.08812480456673913], c(x)=[3.764233369452086e-10], TR=1.0, norm(foc)=0.011500723092885471\n",
      "Iter 14: f=0.0229599744412804, λ=[0.08812974655873822], c(x)=[1.3661960451827326e-10], TR=1.0, norm(foc)=0.005756385618588163\n",
      "Iter 15: f=0.022959088150398085, λ=[0.0881314107961055], c(x)=[4.56474413823571e-10], TR=1.0, norm(foc)=0.002880464885383854\n",
      "Iter 16: f=0.02295886732972351, λ=[0.0881263017672415], c(x)=[1.0752962964488688e-9], TR=1.0, norm(foc)=0.001456169724223254\n",
      "Iter 17: f=0.022958810562596636, λ=[0.08812727182962203], c(x)=[3.745093124507548e-10], TR=1.0, norm(foc)=0.0007266128616736104\n",
      "Iter 18: f=0.022958797295923792, λ=[0.08812916326165048], c(x)=[9.805600775791845e-10], TR=1.0, norm(foc)=0.0003909086741240457\n",
      "Iter 19: f=0.022958793324829984, λ=[0.08812981693441531], c(x)=[1.730438015101754e-10], TR=1.0, norm(foc)=0.00020768034064370404\n",
      "Iter 20: f=0.022958792149509473, λ=[0.08812993623802398], c(x)=[1.063815702195825e-10], TR=1.0, norm(foc)=0.00010132460936763705\n",
      "Iter 21: f=0.02295879187493447, λ=[0.08813033423408839], c(x)=[1.4879342202789303e-10], TR=1.0, norm(foc)=4.905856373221587e-5\n"
     ]
    },
    {
     "name": "stderr",
     "output_type": "stream",
     "text": [
      "┌ Info: Saved animation to \n",
      "│   fn = /home/paul/.julia/dev/AnimatedOptimization/docs/src/sqp.gif\n",
      "└ @ Plots /home/paul/.julia/packages/Plots/h3o4c/src/animation.jl:95\n"
     ]
    }
   ],
   "source": [
    "x0 = [0.0, 0.0]\n",
    "result = sequentialquadratic(f, x0, constraint; maxiter=100)\n",
    "gif(result[5], \"sqp.gif\", fps=5);"
   ]
  },
  {
   "cell_type": "markdown",
   "metadata": {},
   "source": [
    "![sqp](./sqp.gif \"Sequential quadratic programming\")\n",
    "\n",
    "Compared to interior point methods, sequential quadratic programming\n",
    "has the advantage of not needing a feasible point to begin, and often\n",
    "taking fewer iteration. Like Newton's method, sequential quadratic\n",
    "programming has local quadratic convergence. A downside of sequential\n",
    "quadratic programming is that solving the quadratic program at each\n",
    "step can take considerably longer than solving the system of linear\n",
    "equations that interior point methods and Newton methods require.\n",
    "\n",
    "\n",
    "### SLQP active Set \n",
    "\n",
    "SLQP active set methods use a linear approximation to the optimization\n",
    "problem to decide which constraints are \"active\" (binding). In each\n",
    "iteration, a linear approximation to the original problem is first\n",
    "solved. The constraints that bind in linear approximation are then\n",
    "assumed to bind in the full problem, and we take a Newton step\n",
    "accordingly. \n",
    "\n",
    "\n",
    "## Augmented Lagrangian\n",
    "\n",
    "Augmented Lagragian methods convert a constrained minimization problem\n",
    "to an unconstrained problem by adding a penalty that increases with\n",
    "the constraint violation to the Lagrangian. \n",
    "\n",
    "## Barrier methods\n",
    "\n",
    "Barrier methods refer to adding a penalty that increases toward\n",
    "$\\infty$ as the constraints get close to violated (such as\n",
    "$\\log(c(x))$). Barrier methods are closely related to interior point\n",
    "methods. Applying Newton's method to a log-barrier penalized problem\n",
    "gives rise to something very similar to our `interiorpoint` algorithm\n",
    "above. \n",
    "\n",
    "\n",
    "# Strategies for global optimization\n",
    "\n",
    "The above algorithms will all converge to local minima. Finding a\n",
    "global minimum is generally very hard. There are a few algorithms that\n",
    "have been proven to converge to a global optimum, such a DIRECT-L in\n",
    "`NLopt`. However, these algorithms are prohibitively time-consuming\n",
    "for even moderate size problems. \n",
    "\n",
    "Randomization is a good strategy for avoiding local minima. Some\n",
    "algorithms with randomization, like simulated annealing, can be shown\n",
    "to converge to the global optimum with high probability. In practice,\n",
    "these are also often too inefficient for moderate size\n",
    "problems. \n",
    "\n",
    "A good practical approach is to use an algorithm that combines\n",
    "randomization with some model-based search. A common approach is to\n",
    "use a variant of Newton's method starting from a bunch of\n",
    "randomly chosen initial values. \n",
    "\n",
    "Algorithms that combine a linear or quadratic approximation to the\n",
    "objective function with some randomness in the search direction can\n",
    "also be useful. An example is stochastic gradient descent, which is\n",
    "often used to fit neural networks. I have had good experience with\n",
    "[CMA-ES](http://cma.gforge.inria.fr/). It worked well to estimate the\n",
    "finite mixture model in @efs2015. \n",
    "\n",
    "Bayesian methods can also be used for optimization and will naturally\n",
    "include some randomization in their search. Hamiltonian Monte-Carlo\n",
    "methods, which incorporate gradient information in their search, are\n",
    "likely to be efficient. See\n",
    "[`DynamicHMC.jl`](https://github.com/tpapp/DynamicHMC.jl)."
   ]
  }
 ],
 "metadata": {
  "kernelspec": {
   "display_name": "Julia 1.2.0",
   "language": "julia",
   "name": "julia-1.2"
  },
  "language_info": {
   "file_extension": ".jl",
   "mimetype": "application/julia",
   "name": "julia",
   "version": "1.2.0"
  }
 },
 "nbformat": 4,
 "nbformat_minor": 2
}
